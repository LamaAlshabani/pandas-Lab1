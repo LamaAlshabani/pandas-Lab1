{
 "cells": [
  {
   "cell_type": "code",
   "execution_count": 1,
   "id": "d3aaed2d",
   "metadata": {},
   "outputs": [],
   "source": [
    "import pandas as pd"
   ]
  },
  {
   "cell_type": "markdown",
   "id": "c8502047",
   "metadata": {},
   "source": [
    "## Q1: Create a Series with indexes = 1, 2, 3 and has three names."
   ]
  },
  {
   "cell_type": "code",
   "execution_count": 2,
   "id": "dc122631",
   "metadata": {},
   "outputs": [
    {
     "data": {
      "text/plain": [
       "1     Lama\n",
       "2    Layan\n",
       "3    Tolen\n",
       "dtype: object"
      ]
     },
     "execution_count": 2,
     "metadata": {},
     "output_type": "execute_result"
    }
   ],
   "source": [
    "index_ = [1, 2, 3]\n",
    "names = ['Lama', 'Layan', 'Tolen']\n",
    "s1 = pd.Series(names, index=index_)\n",
    "s1"
   ]
  },
  {
   "cell_type": "markdown",
   "id": "443e73f6",
   "metadata": {},
   "source": [
    "## Q2: Change indexes to 11, 12, 13."
   ]
  },
  {
   "cell_type": "code",
   "execution_count": 3,
   "id": "ae224dba",
   "metadata": {},
   "outputs": [
    {
     "data": {
      "text/plain": [
       "11     Lama\n",
       "12    Layan\n",
       "13    Tolen\n",
       "dtype: object"
      ]
     },
     "execution_count": 3,
     "metadata": {},
     "output_type": "execute_result"
    }
   ],
   "source": [
    "s1.index= [11, 12, 13]\n",
    "s1"
   ]
  },
  {
   "cell_type": "markdown",
   "id": "7f562099",
   "metadata": {},
   "source": [
    "## Q3: Retrieve First and second elements."
   ]
  },
  {
   "cell_type": "code",
   "execution_count": 4,
   "id": "bbe9dee3",
   "metadata": {},
   "outputs": [
    {
     "data": {
      "text/plain": [
       "11     Lama\n",
       "12    Layan\n",
       "dtype: object"
      ]
     },
     "execution_count": 4,
     "metadata": {},
     "output_type": "execute_result"
    }
   ],
   "source": [
    "s1.head(2)"
   ]
  },
  {
   "cell_type": "markdown",
   "id": "c771754d",
   "metadata": {},
   "source": [
    "## Q4: Add duplicate elements, then remove the duplication."
   ]
  },
  {
   "cell_type": "code",
   "execution_count": 5,
   "id": "cf5a1d1a",
   "metadata": {},
   "outputs": [
    {
     "data": {
      "text/plain": [
       "11     Lama\n",
       "12    Layan\n",
       "13    Tolen\n",
       "14     Lama\n",
       "15     Nada\n",
       "dtype: object"
      ]
     },
     "execution_count": 5,
     "metadata": {},
     "output_type": "execute_result"
    }
   ],
   "source": [
    "s2 = pd.Series({14: 'Lama', 15: 'Nada'})\n",
    "# s1 = s1.append(s2)\n",
    "s1= pd.concat([s1, s2])\n",
    "s1\n"
   ]
  },
  {
   "cell_type": "code",
   "execution_count": 8,
   "id": "76358fa0",
   "metadata": {},
   "outputs": [
    {
     "data": {
      "text/plain": [
       "11     Lama\n",
       "12    Layan\n",
       "13    Tolen\n",
       "15     Nada\n",
       "dtype: object"
      ]
     },
     "execution_count": 8,
     "metadata": {},
     "output_type": "execute_result"
    }
   ],
   "source": [
    "s1 = s1.drop_duplicates()\n",
    "s1"
   ]
  },
  {
   "cell_type": "markdown",
   "id": "329164fe",
   "metadata": {},
   "source": [
    "## Q5: Create a Students DataFrame has three columns (ID, Name, GPA)."
   ]
  },
  {
   "cell_type": "code",
   "execution_count": 31,
   "id": "873e1727",
   "metadata": {},
   "outputs": [
    {
     "data": {
      "text/html": [
       "<div>\n",
       "<style scoped>\n",
       "    .dataframe tbody tr th:only-of-type {\n",
       "        vertical-align: middle;\n",
       "    }\n",
       "\n",
       "    .dataframe tbody tr th {\n",
       "        vertical-align: top;\n",
       "    }\n",
       "\n",
       "    .dataframe thead th {\n",
       "        text-align: right;\n",
       "    }\n",
       "</style>\n",
       "<table border=\"1\" class=\"dataframe\">\n",
       "  <thead>\n",
       "    <tr style=\"text-align: right;\">\n",
       "      <th></th>\n",
       "      <th>ID</th>\n",
       "      <th>Name</th>\n",
       "      <th>GPA</th>\n",
       "    </tr>\n",
       "  </thead>\n",
       "  <tbody>\n",
       "    <tr>\n",
       "      <th>0</th>\n",
       "      <td>1111111111</td>\n",
       "      <td>Lama</td>\n",
       "      <td>3.99</td>\n",
       "    </tr>\n",
       "    <tr>\n",
       "      <th>1</th>\n",
       "      <td>222222222</td>\n",
       "      <td>Ahlam</td>\n",
       "      <td>3.98</td>\n",
       "    </tr>\n",
       "    <tr>\n",
       "      <th>2</th>\n",
       "      <td>333333333</td>\n",
       "      <td>Amal</td>\n",
       "      <td>2.56</td>\n",
       "    </tr>\n",
       "    <tr>\n",
       "      <th>3</th>\n",
       "      <td>444444444</td>\n",
       "      <td>Alaa</td>\n",
       "      <td>4.00</td>\n",
       "    </tr>\n",
       "  </tbody>\n",
       "</table>\n",
       "</div>"
      ],
      "text/plain": [
       "           ID   Name   GPA\n",
       "0  1111111111   Lama  3.99\n",
       "1   222222222  Ahlam  3.98\n",
       "2   333333333   Amal  2.56\n",
       "3   444444444   Alaa  4.00"
      ]
     },
     "execution_count": 31,
     "metadata": {},
     "output_type": "execute_result"
    }
   ],
   "source": [
    " data = {'ID': ['1111111111', '222222222', '333333333', '444444444'],\n",
    "        'Name': ['Lama', 'Ahlam', 'Amal','Alaa'],\n",
    "        'GPA': [3.99, 3.98, 2.56, 4]\n",
    "       }\n",
    "\n",
    "SalesDF = pd.DataFrame(data, columns=[\"ID\",\"Name\", \"GPA\"])\n",
    "SalesDF   "
   ]
  },
  {
   "cell_type": "markdown",
   "id": "2808d244",
   "metadata": {},
   "source": [
    "## Q6: Read educ_figdp_1_Data.csv file and print the head."
   ]
  },
  {
   "cell_type": "code",
   "execution_count": 21,
   "id": "3b0baf98",
   "metadata": {},
   "outputs": [
    {
     "data": {
      "text/html": [
       "<div>\n",
       "<style scoped>\n",
       "    .dataframe tbody tr th:only-of-type {\n",
       "        vertical-align: middle;\n",
       "    }\n",
       "\n",
       "    .dataframe tbody tr th {\n",
       "        vertical-align: top;\n",
       "    }\n",
       "\n",
       "    .dataframe thead th {\n",
       "        text-align: right;\n",
       "    }\n",
       "</style>\n",
       "<table border=\"1\" class=\"dataframe\">\n",
       "  <thead>\n",
       "    <tr style=\"text-align: right;\">\n",
       "      <th></th>\n",
       "      <th>TIME</th>\n",
       "      <th>GEO</th>\n",
       "      <th>INDIC_ED</th>\n",
       "      <th>Value</th>\n",
       "      <th>Flag and Footnotes</th>\n",
       "    </tr>\n",
       "  </thead>\n",
       "  <tbody>\n",
       "    <tr>\n",
       "      <th>0</th>\n",
       "      <td>2000</td>\n",
       "      <td>European Union (28 countries)</td>\n",
       "      <td>Total public expenditure on education as % of ...</td>\n",
       "      <td>:</td>\n",
       "      <td>NaN</td>\n",
       "    </tr>\n",
       "    <tr>\n",
       "      <th>1</th>\n",
       "      <td>2001</td>\n",
       "      <td>European Union (28 countries)</td>\n",
       "      <td>Total public expenditure on education as % of ...</td>\n",
       "      <td>:</td>\n",
       "      <td>NaN</td>\n",
       "    </tr>\n",
       "    <tr>\n",
       "      <th>2</th>\n",
       "      <td>2002</td>\n",
       "      <td>European Union (28 countries)</td>\n",
       "      <td>Total public expenditure on education as % of ...</td>\n",
       "      <td>5.00</td>\n",
       "      <td>e</td>\n",
       "    </tr>\n",
       "    <tr>\n",
       "      <th>3</th>\n",
       "      <td>2003</td>\n",
       "      <td>European Union (28 countries)</td>\n",
       "      <td>Total public expenditure on education as % of ...</td>\n",
       "      <td>5.03</td>\n",
       "      <td>e</td>\n",
       "    </tr>\n",
       "    <tr>\n",
       "      <th>4</th>\n",
       "      <td>2004</td>\n",
       "      <td>European Union (28 countries)</td>\n",
       "      <td>Total public expenditure on education as % of ...</td>\n",
       "      <td>4.95</td>\n",
       "      <td>e</td>\n",
       "    </tr>\n",
       "  </tbody>\n",
       "</table>\n",
       "</div>"
      ],
      "text/plain": [
       "   TIME                            GEO  \\\n",
       "0  2000  European Union (28 countries)   \n",
       "1  2001  European Union (28 countries)   \n",
       "2  2002  European Union (28 countries)   \n",
       "3  2003  European Union (28 countries)   \n",
       "4  2004  European Union (28 countries)   \n",
       "\n",
       "                                            INDIC_ED Value Flag and Footnotes  \n",
       "0  Total public expenditure on education as % of ...     :                NaN  \n",
       "1  Total public expenditure on education as % of ...     :                NaN  \n",
       "2  Total public expenditure on education as % of ...  5.00                  e  \n",
       "3  Total public expenditure on education as % of ...  5.03                  e  \n",
       "4  Total public expenditure on education as % of ...  4.95                  e  "
      ]
     },
     "execution_count": 21,
     "metadata": {},
     "output_type": "execute_result"
    }
   ],
   "source": [
    "edu = pd.read_csv('educ_figdp_1_Data.csv')\n",
    "edu.head()"
   ]
  },
  {
   "cell_type": "markdown",
   "id": "34574733",
   "metadata": {},
   "source": [
    "## Q7: Give an example shows the difference between loc and slicing?\n",
    "**Note:**\n",
    "- loc use the index labels as references.\n",
    "- slice use the position as references."
   ]
  },
  {
   "cell_type": "code",
   "execution_count": 27,
   "id": "0d5876f7",
   "metadata": {},
   "outputs": [
    {
     "name": "stdout",
     "output_type": "stream",
     "text": [
      "slice\n"
     ]
    },
    {
     "data": {
      "text/html": [
       "<div>\n",
       "<style scoped>\n",
       "    .dataframe tbody tr th:only-of-type {\n",
       "        vertical-align: middle;\n",
       "    }\n",
       "\n",
       "    .dataframe tbody tr th {\n",
       "        vertical-align: top;\n",
       "    }\n",
       "\n",
       "    .dataframe thead th {\n",
       "        text-align: right;\n",
       "    }\n",
       "</style>\n",
       "<table border=\"1\" class=\"dataframe\">\n",
       "  <thead>\n",
       "    <tr style=\"text-align: right;\">\n",
       "      <th></th>\n",
       "      <th>TIME</th>\n",
       "      <th>GEO</th>\n",
       "      <th>INDIC_ED</th>\n",
       "      <th>Value</th>\n",
       "      <th>Flag and Footnotes</th>\n",
       "    </tr>\n",
       "  </thead>\n",
       "  <tbody>\n",
       "    <tr>\n",
       "      <th>3</th>\n",
       "      <td>2003</td>\n",
       "      <td>European Union (28 countries)</td>\n",
       "      <td>Total public expenditure on education as % of ...</td>\n",
       "      <td>5.03</td>\n",
       "      <td>e</td>\n",
       "    </tr>\n",
       "    <tr>\n",
       "      <th>4</th>\n",
       "      <td>2004</td>\n",
       "      <td>European Union (28 countries)</td>\n",
       "      <td>Total public expenditure on education as % of ...</td>\n",
       "      <td>4.95</td>\n",
       "      <td>e</td>\n",
       "    </tr>\n",
       "    <tr>\n",
       "      <th>5</th>\n",
       "      <td>2005</td>\n",
       "      <td>European Union (28 countries)</td>\n",
       "      <td>Total public expenditure on education as % of ...</td>\n",
       "      <td>4.92</td>\n",
       "      <td>e</td>\n",
       "    </tr>\n",
       "    <tr>\n",
       "      <th>6</th>\n",
       "      <td>2006</td>\n",
       "      <td>European Union (28 countries)</td>\n",
       "      <td>Total public expenditure on education as % of ...</td>\n",
       "      <td>4.91</td>\n",
       "      <td>e</td>\n",
       "    </tr>\n",
       "  </tbody>\n",
       "</table>\n",
       "</div>"
      ],
      "text/plain": [
       "   TIME                            GEO  \\\n",
       "3  2003  European Union (28 countries)   \n",
       "4  2004  European Union (28 countries)   \n",
       "5  2005  European Union (28 countries)   \n",
       "6  2006  European Union (28 countries)   \n",
       "\n",
       "                                            INDIC_ED Value Flag and Footnotes  \n",
       "3  Total public expenditure on education as % of ...  5.03                  e  \n",
       "4  Total public expenditure on education as % of ...  4.95                  e  \n",
       "5  Total public expenditure on education as % of ...  4.92                  e  \n",
       "6  Total public expenditure on education as % of ...  4.91                  e  "
      ]
     },
     "execution_count": 27,
     "metadata": {},
     "output_type": "execute_result"
    }
   ],
   "source": [
    "print(\"slice\")\n",
    "edu[3:7]\n"
   ]
  },
  {
   "cell_type": "code",
   "execution_count": 28,
   "id": "4bf0dde1",
   "metadata": {},
   "outputs": [
    {
     "name": "stdout",
     "output_type": "stream",
     "text": [
      "loc\n"
     ]
    },
    {
     "data": {
      "text/html": [
       "<div>\n",
       "<style scoped>\n",
       "    .dataframe tbody tr th:only-of-type {\n",
       "        vertical-align: middle;\n",
       "    }\n",
       "\n",
       "    .dataframe tbody tr th {\n",
       "        vertical-align: top;\n",
       "    }\n",
       "\n",
       "    .dataframe thead th {\n",
       "        text-align: right;\n",
       "    }\n",
       "</style>\n",
       "<table border=\"1\" class=\"dataframe\">\n",
       "  <thead>\n",
       "    <tr style=\"text-align: right;\">\n",
       "      <th></th>\n",
       "      <th>TIME</th>\n",
       "      <th>GEO</th>\n",
       "      <th>INDIC_ED</th>\n",
       "      <th>Value</th>\n",
       "      <th>Flag and Footnotes</th>\n",
       "    </tr>\n",
       "  </thead>\n",
       "  <tbody>\n",
       "    <tr>\n",
       "      <th>3</th>\n",
       "      <td>2003</td>\n",
       "      <td>European Union (28 countries)</td>\n",
       "      <td>Total public expenditure on education as % of ...</td>\n",
       "      <td>5.03</td>\n",
       "      <td>e</td>\n",
       "    </tr>\n",
       "    <tr>\n",
       "      <th>4</th>\n",
       "      <td>2004</td>\n",
       "      <td>European Union (28 countries)</td>\n",
       "      <td>Total public expenditure on education as % of ...</td>\n",
       "      <td>4.95</td>\n",
       "      <td>e</td>\n",
       "    </tr>\n",
       "    <tr>\n",
       "      <th>5</th>\n",
       "      <td>2005</td>\n",
       "      <td>European Union (28 countries)</td>\n",
       "      <td>Total public expenditure on education as % of ...</td>\n",
       "      <td>4.92</td>\n",
       "      <td>e</td>\n",
       "    </tr>\n",
       "    <tr>\n",
       "      <th>6</th>\n",
       "      <td>2006</td>\n",
       "      <td>European Union (28 countries)</td>\n",
       "      <td>Total public expenditure on education as % of ...</td>\n",
       "      <td>4.91</td>\n",
       "      <td>e</td>\n",
       "    </tr>\n",
       "    <tr>\n",
       "      <th>7</th>\n",
       "      <td>2007</td>\n",
       "      <td>European Union (28 countries)</td>\n",
       "      <td>Total public expenditure on education as % of ...</td>\n",
       "      <td>4.92</td>\n",
       "      <td>e</td>\n",
       "    </tr>\n",
       "  </tbody>\n",
       "</table>\n",
       "</div>"
      ],
      "text/plain": [
       "   TIME                            GEO  \\\n",
       "3  2003  European Union (28 countries)   \n",
       "4  2004  European Union (28 countries)   \n",
       "5  2005  European Union (28 countries)   \n",
       "6  2006  European Union (28 countries)   \n",
       "7  2007  European Union (28 countries)   \n",
       "\n",
       "                                            INDIC_ED Value Flag and Footnotes  \n",
       "3  Total public expenditure on education as % of ...  5.03                  e  \n",
       "4  Total public expenditure on education as % of ...  4.95                  e  \n",
       "5  Total public expenditure on education as % of ...  4.92                  e  \n",
       "6  Total public expenditure on education as % of ...  4.91                  e  \n",
       "7  Total public expenditure on education as % of ...  4.92                  e  "
      ]
     },
     "execution_count": 28,
     "metadata": {},
     "output_type": "execute_result"
    }
   ],
   "source": [
    "print(\"loc\")\n",
    "edu.loc[3:7]"
   ]
  }
 ],
 "metadata": {
  "kernelspec": {
   "display_name": "Python 3 (ipykernel)",
   "language": "python",
   "name": "python3"
  },
  "language_info": {
   "codemirror_mode": {
    "name": "ipython",
    "version": 3
   },
   "file_extension": ".py",
   "mimetype": "text/x-python",
   "name": "python",
   "nbconvert_exporter": "python",
   "pygments_lexer": "ipython3",
   "version": "3.10.9"
  }
 },
 "nbformat": 4,
 "nbformat_minor": 5
}
